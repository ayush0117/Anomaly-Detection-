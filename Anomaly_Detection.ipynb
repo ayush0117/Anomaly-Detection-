{
  "cells": [
    {
      "cell_type": "markdown",
      "metadata": {
        "id": "e1_Y75QXJS6h"
      },
      "source": [
        "### Import TensorFlow and other libraries"
      ]
    },
    {
      "cell_type": "code",
      "execution_count": 19,
      "metadata": {
        "id": "YfIk2es3hJEd"
      },
      "outputs": [],
      "source": [
        "import matplotlib.pyplot as plt\n",
        "import numpy as np\n",
        "import pandas as pd\n",
        "import tensorflow as tf\n",
        "\n",
        "from sklearn.metrics import accuracy_score, precision_score, recall_score, roc_curve, auc  \n",
        "from sklearn.model_selection import train_test_split\n",
        "from tensorflow.keras import layers, losses\n",
        "from tensorflow.keras.models import Model"
      ]
    },
    {
      "cell_type": "markdown",
      "metadata": {
        "id": "i5estNaur_Mh"
      },
      "source": [
        "### Loading ECG data"
      ]
    },
    {
      "cell_type": "code",
      "execution_count": 20,
      "metadata": {
        "colab": {
          "base_uri": "https://localhost:8080/",
          "height": 525
        },
        "id": "KmKRDJWgsFYa",
        "outputId": "a136bbae-1f7b-4e25-db74-a4de46942d5e"
      },
      "outputs": [
        {
          "output_type": "stream",
          "name": "stdout",
          "text": [
            "[[-0.11252183 -2.8272038  -3.7738969  ...  0.92528624  0.19313742\n",
            "   1.        ]\n",
            " [-1.1008778  -3.9968398  -4.2858426  ...  1.1196209  -1.4362499\n",
            "   1.        ]\n",
            " [-0.56708802 -2.5934502  -3.8742297  ...  0.90422673 -0.42179659\n",
            "   1.        ]\n",
            " ...\n",
            " [-1.1229693  -2.2529248  -2.8676281  ... -2.0083694  -1.8083338\n",
            "   0.        ]\n",
            " [-0.54770461 -1.8895451  -2.8397786  ...  1.1504486   0.80493225\n",
            "   0.        ]\n",
            " [-1.3517791  -2.2090058  -2.5202247  ... -1.577823   -0.68453092\n",
            "   0.        ]]\n"
          ]
        },
        {
          "output_type": "execute_result",
          "data": {
            "text/plain": [
              "        0         1         2         3         4         5         6    \\\n",
              "0 -0.112522 -2.827204 -3.773897 -4.349751 -4.376041 -3.474986 -2.181408   \n",
              "1 -1.100878 -3.996840 -4.285843 -4.506579 -4.022377 -3.234368 -1.566126   \n",
              "2 -0.567088 -2.593450 -3.874230 -4.584095 -4.187449 -3.151462 -1.742940   \n",
              "3  0.490473 -1.914407 -3.616364 -4.318823 -4.268016 -3.881110 -2.993280   \n",
              "4  0.800232 -0.874252 -2.384761 -3.973292 -4.338224 -3.802422 -2.534510   \n",
              "\n",
              "        7         8         9    ...       131       132       133       134  \\\n",
              "0 -1.818286 -1.250522 -0.477492  ...  0.792168  0.933541  0.796958  0.578621   \n",
              "1 -0.992258 -0.754680  0.042321  ...  0.538356  0.656881  0.787490  0.724046   \n",
              "2 -1.490659 -1.183580 -0.394229  ...  0.886073  0.531452  0.311377 -0.021919   \n",
              "3 -1.671131 -1.333884 -0.965629  ...  0.350816  0.499111  0.600345  0.842069   \n",
              "4 -1.783423 -1.594450 -0.753199  ...  1.148884  0.958434  1.059025  1.371682   \n",
              "\n",
              "        135       136       137       138       139  140  \n",
              "0  0.257740  0.228077  0.123431  0.925286  0.193137  1.0  \n",
              "1  0.555784  0.476333  0.773820  1.119621 -1.436250  1.0  \n",
              "2 -0.713683 -0.532197  0.321097  0.904227 -0.421797  1.0  \n",
              "3  0.952074  0.990133  1.086798  1.403011 -0.383564  1.0  \n",
              "4  1.277392  0.960304  0.971020  1.614392  1.421456  1.0  \n",
              "\n",
              "[5 rows x 141 columns]"
            ],
            "text/html": [
              "\n",
              "  <div id=\"df-3988dfdf-95cd-4e26-9804-2e6c22857380\">\n",
              "    <div class=\"colab-df-container\">\n",
              "      <div>\n",
              "<style scoped>\n",
              "    .dataframe tbody tr th:only-of-type {\n",
              "        vertical-align: middle;\n",
              "    }\n",
              "\n",
              "    .dataframe tbody tr th {\n",
              "        vertical-align: top;\n",
              "    }\n",
              "\n",
              "    .dataframe thead th {\n",
              "        text-align: right;\n",
              "    }\n",
              "</style>\n",
              "<table border=\"1\" class=\"dataframe\">\n",
              "  <thead>\n",
              "    <tr style=\"text-align: right;\">\n",
              "      <th></th>\n",
              "      <th>0</th>\n",
              "      <th>1</th>\n",
              "      <th>2</th>\n",
              "      <th>3</th>\n",
              "      <th>4</th>\n",
              "      <th>5</th>\n",
              "      <th>6</th>\n",
              "      <th>7</th>\n",
              "      <th>8</th>\n",
              "      <th>9</th>\n",
              "      <th>...</th>\n",
              "      <th>131</th>\n",
              "      <th>132</th>\n",
              "      <th>133</th>\n",
              "      <th>134</th>\n",
              "      <th>135</th>\n",
              "      <th>136</th>\n",
              "      <th>137</th>\n",
              "      <th>138</th>\n",
              "      <th>139</th>\n",
              "      <th>140</th>\n",
              "    </tr>\n",
              "  </thead>\n",
              "  <tbody>\n",
              "    <tr>\n",
              "      <th>0</th>\n",
              "      <td>-0.112522</td>\n",
              "      <td>-2.827204</td>\n",
              "      <td>-3.773897</td>\n",
              "      <td>-4.349751</td>\n",
              "      <td>-4.376041</td>\n",
              "      <td>-3.474986</td>\n",
              "      <td>-2.181408</td>\n",
              "      <td>-1.818286</td>\n",
              "      <td>-1.250522</td>\n",
              "      <td>-0.477492</td>\n",
              "      <td>...</td>\n",
              "      <td>0.792168</td>\n",
              "      <td>0.933541</td>\n",
              "      <td>0.796958</td>\n",
              "      <td>0.578621</td>\n",
              "      <td>0.257740</td>\n",
              "      <td>0.228077</td>\n",
              "      <td>0.123431</td>\n",
              "      <td>0.925286</td>\n",
              "      <td>0.193137</td>\n",
              "      <td>1.0</td>\n",
              "    </tr>\n",
              "    <tr>\n",
              "      <th>1</th>\n",
              "      <td>-1.100878</td>\n",
              "      <td>-3.996840</td>\n",
              "      <td>-4.285843</td>\n",
              "      <td>-4.506579</td>\n",
              "      <td>-4.022377</td>\n",
              "      <td>-3.234368</td>\n",
              "      <td>-1.566126</td>\n",
              "      <td>-0.992258</td>\n",
              "      <td>-0.754680</td>\n",
              "      <td>0.042321</td>\n",
              "      <td>...</td>\n",
              "      <td>0.538356</td>\n",
              "      <td>0.656881</td>\n",
              "      <td>0.787490</td>\n",
              "      <td>0.724046</td>\n",
              "      <td>0.555784</td>\n",
              "      <td>0.476333</td>\n",
              "      <td>0.773820</td>\n",
              "      <td>1.119621</td>\n",
              "      <td>-1.436250</td>\n",
              "      <td>1.0</td>\n",
              "    </tr>\n",
              "    <tr>\n",
              "      <th>2</th>\n",
              "      <td>-0.567088</td>\n",
              "      <td>-2.593450</td>\n",
              "      <td>-3.874230</td>\n",
              "      <td>-4.584095</td>\n",
              "      <td>-4.187449</td>\n",
              "      <td>-3.151462</td>\n",
              "      <td>-1.742940</td>\n",
              "      <td>-1.490659</td>\n",
              "      <td>-1.183580</td>\n",
              "      <td>-0.394229</td>\n",
              "      <td>...</td>\n",
              "      <td>0.886073</td>\n",
              "      <td>0.531452</td>\n",
              "      <td>0.311377</td>\n",
              "      <td>-0.021919</td>\n",
              "      <td>-0.713683</td>\n",
              "      <td>-0.532197</td>\n",
              "      <td>0.321097</td>\n",
              "      <td>0.904227</td>\n",
              "      <td>-0.421797</td>\n",
              "      <td>1.0</td>\n",
              "    </tr>\n",
              "    <tr>\n",
              "      <th>3</th>\n",
              "      <td>0.490473</td>\n",
              "      <td>-1.914407</td>\n",
              "      <td>-3.616364</td>\n",
              "      <td>-4.318823</td>\n",
              "      <td>-4.268016</td>\n",
              "      <td>-3.881110</td>\n",
              "      <td>-2.993280</td>\n",
              "      <td>-1.671131</td>\n",
              "      <td>-1.333884</td>\n",
              "      <td>-0.965629</td>\n",
              "      <td>...</td>\n",
              "      <td>0.350816</td>\n",
              "      <td>0.499111</td>\n",
              "      <td>0.600345</td>\n",
              "      <td>0.842069</td>\n",
              "      <td>0.952074</td>\n",
              "      <td>0.990133</td>\n",
              "      <td>1.086798</td>\n",
              "      <td>1.403011</td>\n",
              "      <td>-0.383564</td>\n",
              "      <td>1.0</td>\n",
              "    </tr>\n",
              "    <tr>\n",
              "      <th>4</th>\n",
              "      <td>0.800232</td>\n",
              "      <td>-0.874252</td>\n",
              "      <td>-2.384761</td>\n",
              "      <td>-3.973292</td>\n",
              "      <td>-4.338224</td>\n",
              "      <td>-3.802422</td>\n",
              "      <td>-2.534510</td>\n",
              "      <td>-1.783423</td>\n",
              "      <td>-1.594450</td>\n",
              "      <td>-0.753199</td>\n",
              "      <td>...</td>\n",
              "      <td>1.148884</td>\n",
              "      <td>0.958434</td>\n",
              "      <td>1.059025</td>\n",
              "      <td>1.371682</td>\n",
              "      <td>1.277392</td>\n",
              "      <td>0.960304</td>\n",
              "      <td>0.971020</td>\n",
              "      <td>1.614392</td>\n",
              "      <td>1.421456</td>\n",
              "      <td>1.0</td>\n",
              "    </tr>\n",
              "  </tbody>\n",
              "</table>\n",
              "<p>5 rows × 141 columns</p>\n",
              "</div>\n",
              "      <button class=\"colab-df-convert\" onclick=\"convertToInteractive('df-3988dfdf-95cd-4e26-9804-2e6c22857380')\"\n",
              "              title=\"Convert this dataframe to an interactive table.\"\n",
              "              style=\"display:none;\">\n",
              "        \n",
              "  <svg xmlns=\"http://www.w3.org/2000/svg\" height=\"24px\"viewBox=\"0 0 24 24\"\n",
              "       width=\"24px\">\n",
              "    <path d=\"M0 0h24v24H0V0z\" fill=\"none\"/>\n",
              "    <path d=\"M18.56 5.44l.94 2.06.94-2.06 2.06-.94-2.06-.94-.94-2.06-.94 2.06-2.06.94zm-11 1L8.5 8.5l.94-2.06 2.06-.94-2.06-.94L8.5 2.5l-.94 2.06-2.06.94zm10 10l.94 2.06.94-2.06 2.06-.94-2.06-.94-.94-2.06-.94 2.06-2.06.94z\"/><path d=\"M17.41 7.96l-1.37-1.37c-.4-.4-.92-.59-1.43-.59-.52 0-1.04.2-1.43.59L10.3 9.45l-7.72 7.72c-.78.78-.78 2.05 0 2.83L4 21.41c.39.39.9.59 1.41.59.51 0 1.02-.2 1.41-.59l7.78-7.78 2.81-2.81c.8-.78.8-2.07 0-2.86zM5.41 20L4 18.59l7.72-7.72 1.47 1.35L5.41 20z\"/>\n",
              "  </svg>\n",
              "      </button>\n",
              "      \n",
              "  <style>\n",
              "    .colab-df-container {\n",
              "      display:flex;\n",
              "      flex-wrap:wrap;\n",
              "      gap: 12px;\n",
              "    }\n",
              "\n",
              "    .colab-df-convert {\n",
              "      background-color: #E8F0FE;\n",
              "      border: none;\n",
              "      border-radius: 50%;\n",
              "      cursor: pointer;\n",
              "      display: none;\n",
              "      fill: #1967D2;\n",
              "      height: 32px;\n",
              "      padding: 0 0 0 0;\n",
              "      width: 32px;\n",
              "    }\n",
              "\n",
              "    .colab-df-convert:hover {\n",
              "      background-color: #E2EBFA;\n",
              "      box-shadow: 0px 1px 2px rgba(60, 64, 67, 0.3), 0px 1px 3px 1px rgba(60, 64, 67, 0.15);\n",
              "      fill: #174EA6;\n",
              "    }\n",
              "\n",
              "    [theme=dark] .colab-df-convert {\n",
              "      background-color: #3B4455;\n",
              "      fill: #D2E3FC;\n",
              "    }\n",
              "\n",
              "    [theme=dark] .colab-df-convert:hover {\n",
              "      background-color: #434B5C;\n",
              "      box-shadow: 0px 1px 3px 1px rgba(0, 0, 0, 0.15);\n",
              "      filter: drop-shadow(0px 1px 2px rgba(0, 0, 0, 0.3));\n",
              "      fill: #FFFFFF;\n",
              "    }\n",
              "  </style>\n",
              "\n",
              "      <script>\n",
              "        const buttonEl =\n",
              "          document.querySelector('#df-3988dfdf-95cd-4e26-9804-2e6c22857380 button.colab-df-convert');\n",
              "        buttonEl.style.display =\n",
              "          google.colab.kernel.accessAllowed ? 'block' : 'none';\n",
              "\n",
              "        async function convertToInteractive(key) {\n",
              "          const element = document.querySelector('#df-3988dfdf-95cd-4e26-9804-2e6c22857380');\n",
              "          const dataTable =\n",
              "            await google.colab.kernel.invokeFunction('convertToInteractive',\n",
              "                                                     [key], {});\n",
              "          if (!dataTable) return;\n",
              "\n",
              "          const docLinkHtml = 'Like what you see? Visit the ' +\n",
              "            '<a target=\"_blank\" href=https://colab.research.google.com/notebooks/data_table.ipynb>data table notebook</a>'\n",
              "            + ' to learn more about interactive tables.';\n",
              "          element.innerHTML = '';\n",
              "          dataTable['output_type'] = 'display_data';\n",
              "          await google.colab.output.renderOutput(dataTable, element);\n",
              "          const docLink = document.createElement('div');\n",
              "          docLink.innerHTML = docLinkHtml;\n",
              "          element.appendChild(docLink);\n",
              "        }\n",
              "      </script>\n",
              "    </div>\n",
              "  </div>\n",
              "  "
            ]
          },
          "metadata": {},
          "execution_count": 20
        }
      ],
      "source": [
        "# Download the dataset\n",
        "dataframe = pd.read_csv('http://storage.googleapis.com/download.tensorflow.org/data/ecg.csv', header=None)  #Row number(s) to use as the column names, and the start of the data\n",
        "raw_data = dataframe.values\n",
        "print(raw_data)\n",
        "\n",
        "dataframe.head()     ## shows 1st 5 values of a table"
      ]
    },
    {
      "cell_type": "code",
      "execution_count": 21,
      "metadata": {
        "id": "UmuCPVYKsKKx",
        "colab": {
          "base_uri": "https://localhost:8080/"
        },
        "outputId": "ad0d14e4-5ebb-43e4-ae5f-68433677dbff"
      },
      "outputs": [
        {
          "output_type": "stream",
          "name": "stdout",
          "text": [
            "[[ 1.5225911   0.0901465  -2.3048594  ...  0.35594853 -0.48818377\n",
            "   0.23199584]\n",
            " [ 0.3308203  -2.4158494  -4.0271171  ...  1.4851319   0.11905583\n",
            "  -2.5969672 ]\n",
            " [ 0.30674554 -1.4711163  -2.7270273  ...  1.2166045   0.66671691\n",
            "   1.1487992 ]\n",
            " ...\n",
            " [-0.66551119 -2.9743856  -4.4855485  ...  0.94006053  1.4556054\n",
            "   0.59329534]\n",
            " [ 1.1048512  -0.61504694 -2.4357678  ...  0.733911   -0.30058531\n",
            "  -0.22360552]\n",
            " [-2.2252716  -4.0932167  -3.6970107  ...  1.0760468   1.1871031\n",
            "  -0.6945654 ]]\n"
          ]
        }
      ],
      "source": [
        "# The last element contains the labels\n",
        "labels = raw_data[:, -1]\n",
        "# print(labels)\n",
        "\n",
        "# The other data points are the electro cadriogram data\n",
        "data = raw_data[:, 0:-1]\n",
        "# print(data)\n",
        "\n",
        "train_data, test_data, train_labels, test_labels = train_test_split(data, \n",
        "                                                                    labels, \n",
        "                                                                    test_size=0.2, \n",
        "                                                                    random_state=21\n",
        "                                                                    )\n",
        "print(train_data)"
      ]
    },
    {
      "cell_type": "markdown",
      "metadata": {
        "id": "byK2vP7hsMbz"
      },
      "source": [
        "Normalize the data to `[0,1]` to improve training accuracy.\n"
      ]
    },
    {
      "cell_type": "code",
      "execution_count": 22,
      "metadata": {
        "id": "tgMZVWRKsPx6",
        "colab": {
          "base_uri": "https://localhost:8080/"
        },
        "outputId": "bf59dfd1-b60a-4a6b-ae2e-a5a9c2053948"
      },
      "outputs": [
        {
          "output_type": "stream",
          "name": "stdout",
          "text": [
            "tf.Tensor(-6.2808752, shape=(), dtype=float64) tf.Tensor(7.4021031, shape=(), dtype=float64)\n",
            "tf.Tensor(\n",
            "[[0.57030466 0.46561659 0.29058117 ... 0.48504233 0.42335019 0.47598344]\n",
            " [0.48320587 0.28246963 0.16471254 ... 0.56756701 0.46772939 0.26923291]\n",
            " [0.48144641 0.35151403 0.25972766 ... 0.54794209 0.50775438 0.54298664]\n",
            " ...\n",
            " [0.41039048 0.24164985 0.13120877 ... 0.52773129 0.56540911 0.50238847]\n",
            " [0.53977477 0.41407858 0.28101392 ... 0.51266516 0.43706054 0.44268649]\n",
            " [0.29639772 0.15988175 0.18883787 ... 0.53766964 0.54578602 0.40826709]], shape=(3998, 140), dtype=float64) tf.Tensor(\n",
            "[[0.48035769 0.28877791 0.19828546 ... 0.45463307 0.52461251 0.3713729 ]\n",
            " [0.36878969 0.30728118 0.26587983 ... 0.58551235 0.56629881 0.57264043]\n",
            " [0.45354808 0.2557325  0.15979648 ... 0.4801337  0.52847338 0.49527123]\n",
            " ...\n",
            " [0.48304973 0.36122933 0.27729513 ... 0.32799057 0.3158066  0.26930442]\n",
            " [0.4090865  0.27907098 0.22604261 ... 0.39099607 0.45987614 0.42140076]\n",
            " [0.42648116 0.17669384 0.14546009 ... 0.47333889 0.55036914 0.37805187]], shape=(1000, 140), dtype=float64)\n"
          ]
        }
      ],
      "source": [
        "min_val = tf.reduce_min(train_data)\n",
        "max_val = tf.reduce_max(train_data) \n",
        "print(min_val,max_val)\n",
        "\n",
        "train_data = (train_data - min_val) / (max_val - min_val)\n",
        "test_data = (test_data - min_val) / (max_val - min_val)\n",
        "print(train_data,test_data)\n",
        "\n",
        "train_data = tf.cast(train_data, tf.float32)\n",
        "test_data = tf.cast(test_data, tf.float32)"
      ]
    },
    {
      "cell_type": "markdown",
      "metadata": {
        "id": "BdSYr2IPsTiz"
      },
      "source": [
        "This time we are mixing in some of the anomaly data into the training set. \n",
        "\n",
        "20% of the training data will contain anomalies. Since the majority of the training data is still normal data, we can still train a high performing model as long as we don't overfit to the training data."
      ]
    },
    {
      "cell_type": "code",
      "execution_count": 23,
      "metadata": {
        "colab": {
          "base_uri": "https://localhost:8080/"
        },
        "id": "VvK4NRe8sVhE",
        "outputId": "a4359672-944c-4a43-c841-b7476c250cd8"
      },
      "outputs": [
        {
          "output_type": "stream",
          "name": "stdout",
          "text": [
            "147\n"
          ]
        },
        {
          "output_type": "execute_result",
          "data": {
            "text/plain": [
              "(2506, 140)"
            ]
          },
          "metadata": {},
          "execution_count": 23
        }
      ],
      "source": [
        "train_labels = train_labels.astype(bool)\n",
        "test_labels = test_labels.astype(bool)\n",
        "\n",
        "normal_train_data = train_data[train_labels]\n",
        "normal_test_data = test_data[test_labels]\n",
        "\n",
        "anomalous_train_data = train_data[~train_labels]\n",
        "anomalous_test_data = test_data[~test_labels]\n",
        "\n",
        "portion_of_anomaly_in_training = 0.2         #20% of training data will be anomalies\n",
        "\n",
        "end_size = int(len(normal_train_data)/(20 - portion_of_anomaly_in_training * 20))\n",
        "print(end_size)\n",
        "\n",
        "combined_train_data = np.append(normal_train_data, anomalous_test_data[:end_size], axis=0)\n",
        "combined_train_data.shape"
      ]
    },
    {
      "cell_type": "code",
      "execution_count": 24,
      "metadata": {
        "colab": {
          "base_uri": "https://localhost:8080/",
          "height": 281
        },
        "id": "ZTlMIrpmseYe",
        "outputId": "05af386b-1e7b-41d8-ea93-70dcf02c8121"
      },
      "outputs": [
        {
          "output_type": "display_data",
          "data": {
            "text/plain": [
              "<Figure size 432x288 with 1 Axes>"
            ],
            "image/png": "[encoded data removed]"
          },
          "metadata": {
            "needs_background": "light"
          }
        }
      ],
      "source": [
        "a = 100  ## change in between 0-140 because labels are 140 \n",
        "plt.grid()\n",
        "plt.plot(np.arange(140), normal_train_data[a])\n",
        "plt.title(\"A Normal ECG\")\n",
        "plt.show()"
      ]
    },
    {
      "cell_type": "code",
      "execution_count": 25,
      "metadata": {
        "colab": {
          "base_uri": "https://localhost:8080/",
          "height": 281
        },
        "id": "zrpXREF2siBr",
        "outputId": "98b7f7f2-8fab-47e8-c425-20195cbc10cd"
      },
      "outputs": [
        {
          "output_type": "display_data",
          "data": {
            "text/plain": [
              "<Figure size 432x288 with 1 Axes>"
            ],
            "image/png": "[encoded data removed]"
          },
          "metadata": {
            "needs_background": "light"
          }
        }
      ],
      "source": [
        "a = 100  ## change in between 0-140 because labels are 140 \n",
        "plt.grid()\n",
        "plt.plot(np.arange(140), anomalous_train_data[a])\n",
        "plt.title(\"An Anomalous ECG\")\n",
        "plt.show()"
      ]
    },
    {
      "cell_type": "markdown",
      "metadata": {
        "id": "0DS6QKZJslZz"
      },
      "source": [
        "### Picking an Embedding to Build the Model\n",
        "\n",
        "After training and evaluating the example model, try modifying the size and number of layers to build an understanding for autoencoder architectures.\n",
        "\n",
        "Note: Changing the size of the embedding (the smallest layer) can produce interesting results."
      ]
    },
    {
      "cell_type": "code",
      "execution_count": 26,
      "metadata": {
        "colab": {
          "base_uri": "https://localhost:8080/"
        },
        "id": "bf6owZQDsp9y",
        "outputId": "5b280aa4-40d1-467d-98bf-f62a1c6db11e"
      },
      "outputs": [
        {
          "output_type": "stream",
          "name": "stdout",
          "text": [
            "Chosen Embedding Size:  5\n"
          ]
        }
      ],
      "source": [
        "EMBEDDING_SIZE = 5\n",
        "class AnomalyDetector(Model):\n",
        "  def __init__(self):\n",
        "    super(AnomalyDetector, self).__init__()\n",
        "    self.encoder = tf.keras.Sequential([\n",
        "      layers.Dense(8, activation=\"relu\"),\n",
        "      layers.Dense(EMBEDDING_SIZE, activation=\"relu\")]) # Smallest Layer Defined Here\n",
        "    \n",
        "    self.decoder = tf.keras.Sequential([\n",
        "      layers.Dense(8, activation=\"relu\"),\n",
        "      layers.Dense(140, activation=\"sigmoid\")])\n",
        "    \n",
        "  def call(self, x):\n",
        "    encoded = self.encoder(x)\n",
        "    decoded = self.decoder(encoded)\n",
        "    return decoded\n",
        "\n",
        "autoencoder = AnomalyDetector()\n",
        "print(\"Chosen Embedding Size: \", EMBEDDING_SIZE)"
      ]
    },
    {
      "cell_type": "markdown",
      "source": [
        "\n",
        "Lr/Learing_rate = The learning rate controls how much the weights are updated according to the estimated error. Choose too small of a value and your model will train forever and likely get stuck. Opt for a too large learning rate and your model might skip the optimal set of weights during training"
      ],
      "metadata": {
        "id": "EBfwYaayZC0T"
      }
    },
    {
      "cell_type": "code",
      "execution_count": 27,
      "metadata": {
        "id": "gwRpBBbg463S"
      },
      "outputs": [],
      "source": [
        "optimizer = tf.keras.optimizers.Adam(learning_rate=0.001)  ##lr = learning rate\n",
        "autoencoder.compile(optimizer=optimizer, loss='mae')   ## mae = mean absolute error"
      ]
    },
    {
      "cell_type": "code",
      "execution_count": 28,
      "metadata": {
        "colab": {
          "base_uri": "https://localhost:8080/"
        },
        "id": "V6NFSs-jsty2",
        "outputId": "8fdac36a-105b-467d-cbe3-65405166d03a"
      },
      "outputs": [
        {
          "output_type": "stream",
          "name": "stdout",
          "text": [
            "Epoch 1/50\n",
            "5/5 [==============================] - 1s 61ms/step - loss: 0.0577 - val_loss: 0.0537\n",
            "Epoch 2/50\n",
            "5/5 [==============================] - 0s 13ms/step - loss: 0.0565 - val_loss: 0.0529\n",
            "Epoch 3/50\n",
            "5/5 [==============================] - 0s 15ms/step - loss: 0.0555 - val_loss: 0.0520\n",
            "Epoch 4/50\n",
            "5/5 [==============================] - 0s 14ms/step - loss: 0.0544 - val_loss: 0.0510\n",
            "Epoch 5/50\n",
            "5/5 [==============================] - 0s 17ms/step - loss: 0.0531 - val_loss: 0.0500\n",
            "Epoch 6/50\n",
            "5/5 [==============================] - 0s 20ms/step - loss: 0.0517 - val_loss: 0.0490\n",
            "Epoch 7/50\n",
            "5/5 [==============================] - 0s 41ms/step - loss: 0.0501 - val_loss: 0.0479\n",
            "Epoch 8/50\n",
            "5/5 [==============================] - 0s 17ms/step - loss: 0.0484 - val_loss: 0.0468\n",
            "Epoch 9/50\n",
            "5/5 [==============================] - 0s 15ms/step - loss: 0.0464 - val_loss: 0.0458\n",
            "Epoch 10/50\n",
            "5/5 [==============================] - 0s 23ms/step - loss: 0.0444 - val_loss: 0.0447\n",
            "Epoch 11/50\n",
            "5/5 [==============================] - 0s 21ms/step - loss: 0.0424 - val_loss: 0.0436\n",
            "Epoch 12/50\n",
            "5/5 [==============================] - 0s 14ms/step - loss: 0.0404 - val_loss: 0.0426\n",
            "Epoch 13/50\n",
            "5/5 [==============================] - 0s 22ms/step - loss: 0.0385 - val_loss: 0.0416\n",
            "Epoch 14/50\n",
            "5/5 [==============================] - 0s 21ms/step - loss: 0.0367 - val_loss: 0.0407\n",
            "Epoch 15/50\n",
            "5/5 [==============================] - 0s 15ms/step - loss: 0.0351 - val_loss: 0.0400\n",
            "Epoch 16/50\n",
            "5/5 [==============================] - 0s 18ms/step - loss: 0.0337 - val_loss: 0.0394\n",
            "Epoch 17/50\n",
            "5/5 [==============================] - 0s 28ms/step - loss: 0.0324 - val_loss: 0.0388\n",
            "Epoch 18/50\n",
            "5/5 [==============================] - 0s 32ms/step - loss: 0.0313 - val_loss: 0.0383\n",
            "Epoch 19/50\n",
            "5/5 [==============================] - 0s 22ms/step - loss: 0.0303 - val_loss: 0.0378\n",
            "Epoch 20/50\n",
            "5/5 [==============================] - 0s 20ms/step - loss: 0.0294 - val_loss: 0.0374\n",
            "Epoch 21/50\n",
            "5/5 [==============================] - 0s 19ms/step - loss: 0.0286 - val_loss: 0.0369\n",
            "Epoch 22/50\n",
            "5/5 [==============================] - 0s 19ms/step - loss: 0.0279 - val_loss: 0.0365\n",
            "Epoch 23/50\n",
            "5/5 [==============================] - 0s 22ms/step - loss: 0.0272 - val_loss: 0.0361\n",
            "Epoch 24/50\n",
            "5/5 [==============================] - 0s 14ms/step - loss: 0.0266 - val_loss: 0.0357\n",
            "Epoch 25/50\n",
            "5/5 [==============================] - 0s 23ms/step - loss: 0.0261 - val_loss: 0.0352\n",
            "Epoch 26/50\n",
            "5/5 [==============================] - 0s 20ms/step - loss: 0.0256 - val_loss: 0.0348\n",
            "Epoch 27/50\n",
            "5/5 [==============================] - 0s 21ms/step - loss: 0.0252 - val_loss: 0.0345\n",
            "Epoch 28/50\n",
            "5/5 [==============================] - 0s 20ms/step - loss: 0.0249 - val_loss: 0.0342\n",
            "Epoch 29/50\n",
            "5/5 [==============================] - 0s 20ms/step - loss: 0.0246 - val_loss: 0.0339\n",
            "Epoch 30/50\n",
            "5/5 [==============================] - 0s 20ms/step - loss: 0.0243 - val_loss: 0.0336\n",
            "Epoch 31/50\n",
            "5/5 [==============================] - 0s 14ms/step - loss: 0.0240 - val_loss: 0.0334\n",
            "Epoch 32/50\n",
            "5/5 [==============================] - 0s 26ms/step - loss: 0.0238 - val_loss: 0.0331\n",
            "Epoch 33/50\n",
            "5/5 [==============================] - 0s 17ms/step - loss: 0.0235 - val_loss: 0.0330\n",
            "Epoch 34/50\n",
            "5/5 [==============================] - 0s 15ms/step - loss: 0.0233 - val_loss: 0.0328\n",
            "Epoch 35/50\n",
            "5/5 [==============================] - 0s 19ms/step - loss: 0.0230 - val_loss: 0.0326\n",
            "Epoch 36/50\n",
            "5/5 [==============================] - 0s 25ms/step - loss: 0.0228 - val_loss: 0.0325\n",
            "Epoch 37/50\n",
            "5/5 [==============================] - 0s 19ms/step - loss: 0.0226 - val_loss: 0.0324\n",
            "Epoch 38/50\n",
            "5/5 [==============================] - 0s 31ms/step - loss: 0.0225 - val_loss: 0.0322\n",
            "Epoch 39/50\n",
            "5/5 [==============================] - 0s 14ms/step - loss: 0.0223 - val_loss: 0.0321\n",
            "Epoch 40/50\n",
            "5/5 [==============================] - 0s 38ms/step - loss: 0.0222 - val_loss: 0.0320\n",
            "Epoch 41/50\n",
            "5/5 [==============================] - 0s 16ms/step - loss: 0.0220 - val_loss: 0.0319\n",
            "Epoch 42/50\n",
            "5/5 [==============================] - 0s 18ms/step - loss: 0.0219 - val_loss: 0.0318\n",
            "Epoch 43/50\n",
            "5/5 [==============================] - 0s 15ms/step - loss: 0.0218 - val_loss: 0.0318\n",
            "Epoch 44/50\n",
            "5/5 [==============================] - 0s 21ms/step - loss: 0.0217 - val_loss: 0.0317\n",
            "Epoch 45/50\n",
            "5/5 [==============================] - 0s 19ms/step - loss: 0.0217 - val_loss: 0.0316\n",
            "Epoch 46/50\n",
            "5/5 [==============================] - 0s 36ms/step - loss: 0.0216 - val_loss: 0.0315\n",
            "Epoch 47/50\n",
            "5/5 [==============================] - 0s 27ms/step - loss: 0.0215 - val_loss: 0.0314\n",
            "Epoch 48/50\n",
            "5/5 [==============================] - 0s 24ms/step - loss: 0.0215 - val_loss: 0.0313\n",
            "Epoch 49/50\n",
            "5/5 [==============================] - 0s 18ms/step - loss: 0.0214 - val_loss: 0.0311\n",
            "Epoch 50/50\n",
            "5/5 [==============================] - 0s 18ms/step - loss: 0.0214 - val_loss: 0.0310\n"
          ]
        }
      ],
      "source": [
        "history = autoencoder.fit(combined_train_data, combined_train_data, epochs=50, \n",
        "                          batch_size=512, validation_data=(test_data, test_data), shuffle=True)"
      ]
    },
    {
      "cell_type": "code",
      "execution_count": 29,
      "metadata": {
        "colab": {
          "base_uri": "https://localhost:8080/",
          "height": 265
        },
        "id": "OEexphFwwTQS",
        "outputId": "b39d83ac-9db5-49af-cfe8-4b319cb83046"
      },
      "outputs": [
        {
          "output_type": "display_data",
          "data": {
            "text/plain": [
              "<Figure size 432x288 with 1 Axes>"
            ],
            "image/png": "[encoded data removed]"
          },
          "metadata": {
            "needs_background": "light"
          }
        }
      ],
      "source": [
        "plt.plot(history.history[\"loss\"], label=\"Training Loss\")\n",
        "plt.plot(history.history[\"val_loss\"], label=\"Validation Loss\")\n",
        "plt.legend()\n",
        "plt.show()"
      ]
    },
    {
      "cell_type": "markdown",
      "metadata": {
        "id": "ceI5lKv1BT-A"
      },
      "source": [
        "### Evaluate Training\n"
      ]
    },
    {
      "cell_type": "code",
      "execution_count": 30,
      "metadata": {
        "colab": {
          "base_uri": "https://localhost:8080/",
          "height": 265
        },
        "id": "hmsk4DuktxJ2",
        "outputId": "b64b5ded-cbbf-40ef-9127-6098bc341197"
      },
      "outputs": [
        {
          "output_type": "display_data",
          "data": {
            "text/plain": [
              "<Figure size 432x288 with 1 Axes>"
            ],
            "image/png": "[encoded data removed]"
          },
          "metadata": {
            "needs_background": "light"
          }
        }
      ],
      "source": [
        "encoded_imgs = autoencoder.encoder(normal_test_data).numpy()\n",
        "decoded_imgs = autoencoder.decoder(encoded_imgs).numpy()\n",
        "\n",
        "a = 100\n",
        "plt.plot(normal_test_data[a],'b')\n",
        "plt.plot(decoded_imgs[a],'r')\n",
        "plt.fill_between(np.arange(140), decoded_imgs[a], normal_test_data[a], color='lightcoral' )\n",
        "plt.legend(labels=[\"Input\", \"Reconstruction\", \"Error\"])\n",
        "plt.show()"
      ]
    },
    {
      "cell_type": "code",
      "execution_count": 31,
      "metadata": {
        "colab": {
          "base_uri": "https://localhost:8080/",
          "height": 265
        },
        "id": "vNFTuPhLwTBn",
        "outputId": "42a24de8-11d6-45c6-ee9a-31b0970b25fe"
      },
      "outputs": [
        {
          "output_type": "display_data",
          "data": {
            "text/plain": [
              "<Figure size 432x288 with 1 Axes>"
            ],
            "image/png": "[encoded data removed]"
          },
          "metadata": {
            "needs_background": "light"
          }
        }
      ],
      "source": [
        "#for an anomalous test example\n",
        "encoded_imgs = autoencoder.encoder(anomalous_test_data).numpy()\n",
        "decoded_imgs = autoencoder.decoder(encoded_imgs).numpy()\n",
        "\n",
        "a = 100\n",
        "plt.plot(anomalous_test_data[a],'b')\n",
        "plt.plot(decoded_imgs[a],'r')\n",
        "plt.fill_between(np.arange(140), decoded_imgs[a], anomalous_test_data[a], color='lightcoral' )\n",
        "plt.legend(labels=[\"Input\", \"Reconstruction\", \"Error\"])\n",
        "plt.show()"
      ]
    },
    {
      "cell_type": "markdown",
      "metadata": {
        "id": "N2sl_2z-uOv3"
      },
      "source": [
        "### ROC and AUC Metrics\n",
        "\n",
        "The Receiver Operating Characteristic (ROC) plots allows us to visualize the tradeoff between predicting anomalies as normal (false positives) and predicting normal data as an anomaly (false negative).\n",
        "\n",
        "The ROC plot now has threshold values plotted on their corrispoinding points on the curve to aid in selecting a theshold for the application."
      ]
    },
    {
      "cell_type": "code",
      "execution_count": 32,
      "metadata": {
        "colab": {
          "base_uri": "https://localhost:8080/",
          "height": 295
        },
        "id": "LketUNanyLte",
        "outputId": "865c2f81-f047-420d-8801-71fd0220b73f"
      },
      "outputs": [
        {
          "output_type": "display_data",
          "data": {
            "text/plain": [
              "<Figure size 432x288 with 1 Axes>"
            ],
            "image/png": "[encoded data removed]"
          },
          "metadata": {
            "needs_background": "light"
          }
        }
      ],
      "source": [
        "reconstructions = autoencoder(test_data)\n",
        "loss = tf.keras.losses.mae(reconstructions, test_data)\n",
        "fpr = []\n",
        "tpr = []\n",
        "#the test labels are flipped to match how the roc_curve function expects them.\n",
        "flipped_labels = 1-test_labels \n",
        "fpr, tpr, thresholds = roc_curve(flipped_labels, loss)\n",
        "plt.figure()\n",
        "lw = 2\n",
        "plt.plot(fpr, tpr, color='darkorange',\n",
        "         lw=lw, label='ROC curve ')\n",
        "plt.plot([0, 1], [0, 1], color='navy', lw=lw, linestyle='--')\n",
        "plt.xlim([0.0, 1.0])\n",
        "plt.ylim([0.0, 1.05])\n",
        "plt.xlabel('False Positive Rate')\n",
        "plt.ylabel('True Positive Rate')\n",
        "plt.title('Receiver operating characteristic example')\n",
        "plt.legend(loc=\"lower right\")\n",
        "\n",
        "# plot some thresholds\n",
        "thresholds_every=20\n",
        "thresholdsLength = len(thresholds)\n",
        "colorMap=plt.get_cmap('jet', thresholdsLength)\n",
        "for i in range(0, thresholdsLength, thresholds_every):\n",
        "  threshold_value_with_max_four_decimals = str(thresholds[i])[:5]\n",
        "  plt.scatter(fpr[i], tpr[i], c='black')\n",
        "  plt.text(fpr[i] - 0.03, tpr[i] + 0.005, threshold_value_with_max_four_decimals, fontdict={'size': 15});\n",
        "\n",
        "plt.show()\n"
      ]
    },
    {
      "cell_type": "code",
      "execution_count": 33,
      "metadata": {
        "colab": {
          "base_uri": "https://localhost:8080/"
        },
        "id": "qDMEZfCvyoaP",
        "outputId": "fe3d94d0-3908-4413-9e1d-0a24ab5e997b"
      },
      "outputs": [
        {
          "output_type": "stream",
          "name": "stdout",
          "text": [
            "0.9555032467532467\n"
          ]
        }
      ],
      "source": [
        "roc_auc = auc(fpr, tpr)\n",
        "print(roc_auc)"
      ]
    },
    {
      "cell_type": "markdown",
      "metadata": {
        "id": "__CBKkwzhGkw"
      },
      "source": [
        "### Picking a Threshold to Detect Anomalies\n"
      ]
    },
    {
      "cell_type": "code",
      "execution_count": 34,
      "metadata": {
        "colab": {
          "base_uri": "https://localhost:8080/"
        },
        "id": "fi7mAGvzhGkx",
        "outputId": "254a9d61-f57c-4ee9-b66f-8dd19c434b2b"
      },
      "outputs": [
        {
          "output_type": "stream",
          "name": "stdout",
          "text": [
            "Chosen Threshold:  0.37\n"
          ]
        }
      ],
      "source": [
        "threshold = .37 \n",
        "print(\"Chosen Threshold: \", threshold)"
      ]
    },
    {
      "cell_type": "code",
      "execution_count": 35,
      "metadata": {
        "id": "lKRN0GBchGkx"
      },
      "outputs": [],
      "source": [
        "def predict(model, data, threshold):\n",
        "  reconstructions = model(data)\n",
        "  loss = tf.keras.losses.mae(reconstructions, data)\n",
        "  return tf.math.less(loss, threshold), loss\n",
        "\n",
        "def print_stats(predictions, labels):\n",
        "  print(\"Accuracy = {}\".format(accuracy_score(labels, predictions)))\n",
        "  print(\"Precision = {}\".format(precision_score(labels, predictions)))\n",
        "  print(\"Recall = {}\".format(recall_score(labels, predictions)))\n"
      ]
    },
    {
      "cell_type": "code",
      "execution_count": 36,
      "metadata": {
        "colab": {
          "base_uri": "https://localhost:8080/"
        },
        "id": "xW6o5LoXhGkx",
        "outputId": "dcc3b2ad-e54f-4d28-b9d8-4245ff6fa471"
      },
      "outputs": [
        {
          "output_type": "stream",
          "name": "stdout",
          "text": [
            "Accuracy = 0.56\n",
            "Precision = 0.56\n",
            "Recall = 1.0\n"
          ]
        }
      ],
      "source": [
        "preds, scores = predict(autoencoder, test_data, threshold)\n",
        "print_stats(preds, test_labels)"
      ]
    }
  ],
  "metadata": {
    "colab": {
      "collapsed_sections": [],
      "name": "Anomaly_Assignment copy.ipynb",
      "provenance": [],
      "toc_visible": true
    },
    "kernelspec": {
      "display_name": "Python 3",
      "name": "python3"
    }
  },
  "nbformat": 4,
  "nbformat_minor": 0
}